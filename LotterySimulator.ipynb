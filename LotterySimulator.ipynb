{
  "nbformat": 4,
  "nbformat_minor": 0,
  "metadata": {
    "colab": {
      "provenance": [],
      "authorship_tag": "ABX9TyOaF4aP950FvzK+HLau4HLf",
      "include_colab_link": true
    },
    "kernelspec": {
      "name": "python3",
      "display_name": "Python 3"
    },
    "language_info": {
      "name": "python"
    }
  },
  "cells": [
    {
      "cell_type": "markdown",
      "metadata": {
        "id": "view-in-github",
        "colab_type": "text"
      },
      "source": [
        "<a href=\"https://colab.research.google.com/github/nicomp42/LotterySimulator/blob/main/LotterySimulator.ipynb\" target=\"_parent\"><img src=\"https://colab.research.google.com/assets/colab-badge.svg\" alt=\"Open In Colab\"/></a>"
      ]
    },
    {
      "cell_type": "code",
      "execution_count": null,
      "metadata": {
        "id": "ehcJoqOAc2Eh"
      },
      "outputs": [],
      "source": [
        "### Lottery Simulator\n",
        "### Mega Millions® tickets cost $2.00 per play. The Mega Ball is an extra $1 for a total of $3.\n",
        "### Players may pick six numbers from two separate pools of numbers: \n",
        "### - five different numbers from 1 to 70 (the white balls) \n",
        "### and one number from 1 to 25 (the gold Mega Ball)"
      ]
    },
    {
      "cell_type": "code",
      "source": [
        "import random\n",
        "import datetime"
      ],
      "metadata": {
        "id": "ZCvfYzj_c5rs"
      },
      "execution_count": null,
      "outputs": []
    },
    {
      "cell_type": "code",
      "source": [
        "def pickNumbers(totalNumbersToPick):\n",
        "  numbers = set()\n",
        "  while len(numbers) < totalNumbersToPick:\n",
        "    nextBall = random.randint(1,70)\n",
        "    numbers.add(nextBall)\n",
        "  megaBall = random.randint(1,25)\n",
        "  #numbers.add(megaBall)\n",
        "  return megaBall, numbers"
      ],
      "metadata": {
        "id": "rBQ0u61gfDfM"
      },
      "execution_count": null,
      "outputs": []
    },
    {
      "cell_type": "code",
      "source": [
        "if __name__ == \"__main__\":\n",
        "\n",
        "  startTime = datetime.datetime.now()\n",
        "  # For testing, use a much smaller number than the real-world value, which is 5 plus the mega ball\n",
        "  totalNumbersInOnePlay = 5\n",
        "  amountSpent = 0\n",
        "  costPerTicket = 3   # $2 plus $1 for megaball\n",
        "  playCounter = 0\n",
        "  megaBall, winningNumbers = pickNumbers(totalNumbersInOnePlay)\n",
        "\n",
        "  winningNumbers = sorted(winningNumbers)\n",
        "  print(\"Winning numbers are\", winningNumbers, \"Mega Ball = \" , megaBall)\n",
        "  # Loop until we pick numbers that match the values in megaBall, winningNumbers above \n",
        "  while True:\n",
        "    myMegaBall, myNumbers = pickNumbers(totalNumbersInOnePlay)\n",
        "    playCounter += 1\n",
        "    amountSpent += costPerTicket\n",
        "    if winningNumbers == sorted(myNumbers) and megaBall == myMegaBall:\n",
        "      print(\"************************** WINNER *****************************\")\n",
        "      print(\"We played\", '{:,}'.format(playCounter), \"times and we spent $\", '{:,}'.format(amountSpent))\n",
        "      print(\"The winning numbers were\", winningNumbers, \"and the megaball was\", myMegaBall)\n",
        "      print(\"Started at\", str(startTime))\n",
        "      endTime = datetime.datetime.now()\n",
        "      print(\"Completed at \", str(endTime))\n",
        "      elapsedTime = endTime - startTime\n",
        "      print(\"Elapsed time:\", str(elapsedTime))\n",
        "      break\n",
        "    else:\n",
        "      if playCounter % 10_000_000 == 0:\n",
        "        print(\"So far, we have played\", '{:,}'.format(playCounter) , \"times and spent $\", '{:,}'.format(amountSpent))\n"
      ],
      "metadata": {
        "colab": {
          "base_uri": "https://localhost:8080/"
        },
        "id": "jEQ0VOKnfAuE",
        "outputId": "76c1df2c-4b16-4918-dfa5-51e4b1994333"
      },
      "execution_count": null,
      "outputs": [
        {
          "output_type": "stream",
          "name": "stdout",
          "text": [
            "Winning numbers are [17, 52, 59, 60, 63] Mega Ball =  16\n",
            "So far, we have played 10,000,000 times and spent $ 30,000,000\n",
            "So far, we have played 20,000,000 times and spent $ 60,000,000\n",
            "So far, we have played 30,000,000 times and spent $ 90,000,000\n",
            "So far, we have played 40,000,000 times and spent $ 120,000,000\n",
            "So far, we have played 50,000,000 times and spent $ 150,000,000\n",
            "So far, we have played 60,000,000 times and spent $ 180,000,000\n",
            "So far, we have played 70,000,000 times and spent $ 210,000,000\n",
            "So far, we have played 80,000,000 times and spent $ 240,000,000\n",
            "So far, we have played 90,000,000 times and spent $ 270,000,000\n",
            "So far, we have played 100,000,000 times and spent $ 300,000,000\n",
            "So far, we have played 110,000,000 times and spent $ 330,000,000\n",
            "So far, we have played 120,000,000 times and spent $ 360,000,000\n",
            "So far, we have played 130,000,000 times and spent $ 390,000,000\n",
            "So far, we have played 140,000,000 times and spent $ 420,000,000\n",
            "So far, we have played 150,000,000 times and spent $ 450,000,000\n",
            "So far, we have played 160,000,000 times and spent $ 480,000,000\n",
            "So far, we have played 170,000,000 times and spent $ 510,000,000\n",
            "So far, we have played 180,000,000 times and spent $ 540,000,000\n",
            "So far, we have played 190,000,000 times and spent $ 570,000,000\n",
            "So far, we have played 200,000,000 times and spent $ 600,000,000\n",
            "So far, we have played 210,000,000 times and spent $ 630,000,000\n",
            "So far, we have played 220,000,000 times and spent $ 660,000,000\n",
            "So far, we have played 230,000,000 times and spent $ 690,000,000\n",
            "So far, we have played 240,000,000 times and spent $ 720,000,000\n",
            "So far, we have played 250,000,000 times and spent $ 750,000,000\n",
            "So far, we have played 260,000,000 times and spent $ 780,000,000\n",
            "So far, we have played 270,000,000 times and spent $ 810,000,000\n",
            "So far, we have played 280,000,000 times and spent $ 840,000,000\n",
            "So far, we have played 290,000,000 times and spent $ 870,000,000\n",
            "So far, we have played 300,000,000 times and spent $ 900,000,000\n",
            "So far, we have played 310,000,000 times and spent $ 930,000,000\n",
            "So far, we have played 320,000,000 times and spent $ 960,000,000\n",
            "So far, we have played 330,000,000 times and spent $ 990,000,000\n",
            "So far, we have played 340,000,000 times and spent $ 1,020,000,000\n",
            "So far, we have played 350,000,000 times and spent $ 1,050,000,000\n",
            "So far, we have played 360,000,000 times and spent $ 1,080,000,000\n",
            "So far, we have played 370,000,000 times and spent $ 1,110,000,000\n",
            "So far, we have played 380,000,000 times and spent $ 1,140,000,000\n",
            "So far, we have played 390,000,000 times and spent $ 1,170,000,000\n",
            "So far, we have played 400,000,000 times and spent $ 1,200,000,000\n",
            "So far, we have played 410,000,000 times and spent $ 1,230,000,000\n",
            "So far, we have played 420,000,000 times and spent $ 1,260,000,000\n",
            "So far, we have played 430,000,000 times and spent $ 1,290,000,000\n",
            "So far, we have played 440,000,000 times and spent $ 1,320,000,000\n",
            "So far, we have played 450,000,000 times and spent $ 1,350,000,000\n",
            "So far, we have played 460,000,000 times and spent $ 1,380,000,000\n",
            "So far, we have played 470,000,000 times and spent $ 1,410,000,000\n",
            "So far, we have played 480,000,000 times and spent $ 1,440,000,000\n",
            "So far, we have played 490,000,000 times and spent $ 1,470,000,000\n",
            "So far, we have played 500,000,000 times and spent $ 1,500,000,000\n",
            "So far, we have played 510,000,000 times and spent $ 1,530,000,000\n",
            "So far, we have played 520,000,000 times and spent $ 1,560,000,000\n",
            "So far, we have played 530,000,000 times and spent $ 1,590,000,000\n",
            "So far, we have played 540,000,000 times and spent $ 1,620,000,000\n",
            "So far, we have played 550,000,000 times and spent $ 1,650,000,000\n",
            "So far, we have played 560,000,000 times and spent $ 1,680,000,000\n",
            "So far, we have played 570,000,000 times and spent $ 1,710,000,000\n",
            "So far, we have played 580,000,000 times and spent $ 1,740,000,000\n",
            "So far, we have played 590,000,000 times and spent $ 1,770,000,000\n",
            "So far, we have played 600,000,000 times and spent $ 1,800,000,000\n",
            "So far, we have played 610,000,000 times and spent $ 1,830,000,000\n",
            "So far, we have played 620,000,000 times and spent $ 1,860,000,000\n",
            "So far, we have played 630,000,000 times and spent $ 1,890,000,000\n",
            "So far, we have played 640,000,000 times and spent $ 1,920,000,000\n",
            "So far, we have played 650,000,000 times and spent $ 1,950,000,000\n",
            "So far, we have played 660,000,000 times and spent $ 1,980,000,000\n",
            "So far, we have played 670,000,000 times and spent $ 2,010,000,000\n",
            "So far, we have played 680,000,000 times and spent $ 2,040,000,000\n",
            "So far, we have played 690,000,000 times and spent $ 2,070,000,000\n",
            "So far, we have played 700,000,000 times and spent $ 2,100,000,000\n",
            "So far, we have played 710,000,000 times and spent $ 2,130,000,000\n",
            "So far, we have played 720,000,000 times and spent $ 2,160,000,000\n",
            "So far, we have played 730,000,000 times and spent $ 2,190,000,000\n",
            "So far, we have played 740,000,000 times and spent $ 2,220,000,000\n",
            "So far, we have played 750,000,000 times and spent $ 2,250,000,000\n",
            "So far, we have played 760,000,000 times and spent $ 2,280,000,000\n",
            "So far, we have played 770,000,000 times and spent $ 2,310,000,000\n",
            "So far, we have played 780,000,000 times and spent $ 2,340,000,000\n",
            "So far, we have played 790,000,000 times and spent $ 2,370,000,000\n",
            "So far, we have played 800,000,000 times and spent $ 2,400,000,000\n",
            "************************** WINNER *****************************\n",
            "We played 804,861,990 times and we spent $ 2,414,585,970\n",
            "The winning numbers were [17, 52, 59, 60, 63]  and the megaball was 16\n",
            "Started at 2023-01-12 17:07:32.802120\n",
            "Completed at  2023-01-12 18:54:25.809633\n",
            "Elapsed time: 1:46:53.007513\n"
          ]
        }
      ]
    }
  ]
}