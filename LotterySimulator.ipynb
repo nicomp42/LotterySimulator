{
  "nbformat": 4,
  "nbformat_minor": 0,
  "metadata": {
    "colab": {
      "provenance": [],
      "authorship_tag": "ABX9TyMMGN5k9LpYM2f+noEuy/V6",
      "include_colab_link": true
    },
    "kernelspec": {
      "name": "python3",
      "display_name": "Python 3"
    },
    "language_info": {
      "name": "python"
    }
  },
  "cells": [
    {
      "cell_type": "markdown",
      "metadata": {
        "id": "view-in-github",
        "colab_type": "text"
      },
      "source": [
        "<a href=\"https://colab.research.google.com/github/nicomp42/LotterySimulator/blob/main/LotterySimulator.ipynb\" target=\"_parent\"><img src=\"https://colab.research.google.com/assets/colab-badge.svg\" alt=\"Open In Colab\"/></a>"
      ]
    },
    {
      "cell_type": "code",
      "execution_count": 1,
      "metadata": {
        "id": "ehcJoqOAc2Eh"
      },
      "outputs": [],
      "source": [
        "### Lottery Simulator\n",
        "### Mega Millions® tickets cost $2.00 per play. \n",
        "### Players may pick six numbers from two separate pools of numbers: \n",
        "### - five different numbers from 1 to 70 (the white balls) \n",
        "### and one number from 1 to 25 (the gold Mega Ball)"
      ]
    },
    {
      "cell_type": "code",
      "source": [
        "import random"
      ],
      "metadata": {
        "id": "ZCvfYzj_c5rs"
      },
      "execution_count": 2,
      "outputs": []
    },
    {
      "cell_type": "code",
      "source": [
        "def pickNumbers(totalNumbersToPick):\n",
        "  numbers = set()\n",
        "  while len(numbers) < totalNumbersToPick:\n",
        "    nextBall = random.randint(1,70)\n",
        "    numbers.add(nextBall)\n",
        "  megaBall = random.randint(1,25)\n",
        "  #numbers.add(megaBall)\n",
        "  return megaBall, numbers"
      ],
      "metadata": {
        "id": "rBQ0u61gfDfM"
      },
      "execution_count": 4,
      "outputs": []
    },
    {
      "cell_type": "code",
      "source": [],
      "metadata": {
        "colab": {
          "base_uri": "https://localhost:8080/"
        },
        "id": "kk_YeoPvc7cT",
        "outputId": "fa091a7a-3cbe-474c-f99f-35fdfa12beec"
      },
      "execution_count": 5,
      "outputs": [
        {
          "output_type": "stream",
          "name": "stdout",
          "text": [
            "Winning numbers are [7, 18, 30, 31, 37] Mega Ball =  5\n"
          ]
        }
      ]
    },
    {
      "cell_type": "code",
      "source": [
        "\n",
        "if __name__ == \"__main__\":\n",
        "  # For testing, use a much smaller number than the real-world value, which is 5 plus the mega ball\n",
        "  totalNumbersInOnePlay = 5\n",
        "  amountSpent = 0\n",
        "  costPerTicket = 3   # $2 plus $1 for megaball\n",
        "  playCounter = 0\n",
        "  megaBall, winningNumbers = pickNumbers(totalNumbersInOnePlay)\n",
        "\n",
        "  winningNumbers = sorted(winningNumbers)\n",
        "  print(\"Winning numbers are\", winningNumbers, \"Mega Ball = \" , megaBall)\n",
        "  while True:\n",
        "    myMegaBall, myNumbers = pickNumbers(totalNumbersInOnePlay)\n",
        "    playCounter += 1\n",
        "    amountSpent += costPerTicket\n",
        "    if winningNumbers == sorted(myNumbers) and megaBall == myMegaBall:\n",
        "      print(\"************************** WINNER *****************************\")\n",
        "      print(\"We played\", playCounter, \"times and we spent $\", amountSpent)\n",
        "      print(\"The winning numbers were\", winningNumbers, \" and the megaball was\", myMegaBall)\n",
        "      break\n",
        "    else:\n",
        "      if playCounter % 1_000_000 == 0:\n",
        "        print(\"So far, we have played\", '{:,}'.format(playCounter) , \"times and spent $\", '{:,}'.format(amountSpent))\n",
        "  "
      ],
      "metadata": {
        "colab": {
          "base_uri": "https://localhost:8080/"
        },
        "id": "jEQ0VOKnfAuE",
        "outputId": "45a2e580-396c-4c51-cda4-4f9c56887742"
      },
      "execution_count": null,
      "outputs": [
        {
          "output_type": "stream",
          "name": "stdout",
          "text": [
            "So far, we have played 1,000,000 times and spent $ 3,000,000\n",
            "So far, we have played 2,000,000 times and spent $ 6,000,000\n",
            "So far, we have played 3,000,000 times and spent $ 9,000,000\n",
            "So far, we have played 4,000,000 times and spent $ 12,000,000\n",
            "So far, we have played 5,000,000 times and spent $ 15,000,000\n",
            "So far, we have played 6,000,000 times and spent $ 18,000,000\n",
            "So far, we have played 7,000,000 times and spent $ 21,000,000\n",
            "So far, we have played 8,000,000 times and spent $ 24,000,000\n",
            "So far, we have played 9,000,000 times and spent $ 27,000,000\n",
            "So far, we have played 10,000,000 times and spent $ 30,000,000\n",
            "So far, we have played 11,000,000 times and spent $ 33,000,000\n",
            "So far, we have played 12,000,000 times and spent $ 36,000,000\n",
            "So far, we have played 13,000,000 times and spent $ 39,000,000\n",
            "So far, we have played 14,000,000 times and spent $ 42,000,000\n",
            "So far, we have played 15,000,000 times and spent $ 45,000,000\n",
            "So far, we have played 16,000,000 times and spent $ 48,000,000\n",
            "So far, we have played 17,000,000 times and spent $ 51,000,000\n",
            "So far, we have played 18,000,000 times and spent $ 54,000,000\n",
            "So far, we have played 19,000,000 times and spent $ 57,000,000\n",
            "So far, we have played 20,000,000 times and spent $ 60,000,000\n",
            "So far, we have played 21,000,000 times and spent $ 63,000,000\n",
            "So far, we have played 22,000,000 times and spent $ 66,000,000\n",
            "So far, we have played 23,000,000 times and spent $ 69,000,000\n",
            "So far, we have played 24,000,000 times and spent $ 72,000,000\n",
            "So far, we have played 25,000,000 times and spent $ 75,000,000\n",
            "So far, we have played 26,000,000 times and spent $ 78,000,000\n",
            "So far, we have played 27,000,000 times and spent $ 81,000,000\n",
            "So far, we have played 28,000,000 times and spent $ 84,000,000\n",
            "So far, we have played 29,000,000 times and spent $ 87,000,000\n",
            "So far, we have played 30,000,000 times and spent $ 90,000,000\n",
            "So far, we have played 31,000,000 times and spent $ 93,000,000\n",
            "So far, we have played 32,000,000 times and spent $ 96,000,000\n",
            "So far, we have played 33,000,000 times and spent $ 99,000,000\n",
            "So far, we have played 34,000,000 times and spent $ 102,000,000\n",
            "So far, we have played 35,000,000 times and spent $ 105,000,000\n",
            "So far, we have played 36,000,000 times and spent $ 108,000,000\n",
            "So far, we have played 37,000,000 times and spent $ 111,000,000\n",
            "So far, we have played 38,000,000 times and spent $ 114,000,000\n",
            "So far, we have played 39,000,000 times and spent $ 117,000,000\n",
            "So far, we have played 40,000,000 times and spent $ 120,000,000\n",
            "So far, we have played 41,000,000 times and spent $ 123,000,000\n",
            "So far, we have played 42,000,000 times and spent $ 126,000,000\n",
            "So far, we have played 43,000,000 times and spent $ 129,000,000\n",
            "So far, we have played 44,000,000 times and spent $ 132,000,000\n",
            "So far, we have played 45,000,000 times and spent $ 135,000,000\n",
            "So far, we have played 46,000,000 times and spent $ 138,000,000\n",
            "So far, we have played 47,000,000 times and spent $ 141,000,000\n",
            "So far, we have played 48,000,000 times and spent $ 144,000,000\n",
            "So far, we have played 49,000,000 times and spent $ 147,000,000\n",
            "So far, we have played 50,000,000 times and spent $ 150,000,000\n",
            "So far, we have played 51,000,000 times and spent $ 153,000,000\n",
            "So far, we have played 52,000,000 times and spent $ 156,000,000\n",
            "So far, we have played 53,000,000 times and spent $ 159,000,000\n",
            "So far, we have played 54,000,000 times and spent $ 162,000,000\n",
            "So far, we have played 55,000,000 times and spent $ 165,000,000\n",
            "So far, we have played 56,000,000 times and spent $ 168,000,000\n",
            "So far, we have played 57,000,000 times and spent $ 171,000,000\n",
            "So far, we have played 58,000,000 times and spent $ 174,000,000\n",
            "So far, we have played 59,000,000 times and spent $ 177,000,000\n",
            "So far, we have played 60,000,000 times and spent $ 180,000,000\n",
            "So far, we have played 61,000,000 times and spent $ 183,000,000\n",
            "So far, we have played 62,000,000 times and spent $ 186,000,000\n",
            "So far, we have played 63,000,000 times and spent $ 189,000,000\n",
            "So far, we have played 64,000,000 times and spent $ 192,000,000\n",
            "So far, we have played 65,000,000 times and spent $ 195,000,000\n",
            "So far, we have played 66,000,000 times and spent $ 198,000,000\n",
            "So far, we have played 67,000,000 times and spent $ 201,000,000\n",
            "So far, we have played 68,000,000 times and spent $ 204,000,000\n",
            "So far, we have played 69,000,000 times and spent $ 207,000,000\n",
            "So far, we have played 70,000,000 times and spent $ 210,000,000\n",
            "So far, we have played 71,000,000 times and spent $ 213,000,000\n",
            "So far, we have played 72,000,000 times and spent $ 216,000,000\n",
            "So far, we have played 73,000,000 times and spent $ 219,000,000\n",
            "So far, we have played 74,000,000 times and spent $ 222,000,000\n",
            "So far, we have played 75,000,000 times and spent $ 225,000,000\n",
            "So far, we have played 76,000,000 times and spent $ 228,000,000\n",
            "So far, we have played 77,000,000 times and spent $ 231,000,000\n",
            "So far, we have played 78,000,000 times and spent $ 234,000,000\n",
            "So far, we have played 79,000,000 times and spent $ 237,000,000\n",
            "So far, we have played 80,000,000 times and spent $ 240,000,000\n",
            "So far, we have played 81,000,000 times and spent $ 243,000,000\n",
            "So far, we have played 82,000,000 times and spent $ 246,000,000\n",
            "So far, we have played 83,000,000 times and spent $ 249,000,000\n",
            "So far, we have played 84,000,000 times and spent $ 252,000,000\n"
          ]
        }
      ]
    }
  ]
}