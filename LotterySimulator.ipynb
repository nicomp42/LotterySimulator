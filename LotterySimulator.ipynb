{
  "nbformat": 4,
  "nbformat_minor": 0,
  "metadata": {
    "colab": {
      "provenance": [],
      "authorship_tag": "ABX9TyOnZCrMt9/URzoeCNzpTGVk",
      "include_colab_link": true
    },
    "kernelspec": {
      "name": "python3",
      "display_name": "Python 3"
    },
    "language_info": {
      "name": "python"
    }
  },
  "cells": [
    {
      "cell_type": "markdown",
      "metadata": {
        "id": "view-in-github",
        "colab_type": "text"
      },
      "source": [
        "<a href=\"https://colab.research.google.com/github/nicomp42/LotterySimulator/blob/main/LotterySimulator.ipynb\" target=\"_parent\"><img src=\"https://colab.research.google.com/assets/colab-badge.svg\" alt=\"Open In Colab\"/></a>"
      ]
    },
    {
      "cell_type": "code",
      "execution_count": 1,
      "metadata": {
        "id": "ehcJoqOAc2Eh"
      },
      "outputs": [],
      "source": [
        "### Lottery Simulator\n",
        "### Mega Millions® tickets cost $2.00 per play. The Mega Ball is an extra $1 for a total of $3.\n",
        "### Players may pick six numbers from two separate pools of numbers: \n",
        "### - five different numbers from 1 to 70 (the white balls) \n",
        "### and one number from 1 to 25 (the gold Mega Ball)"
      ]
    },
    {
      "cell_type": "code",
      "source": [
        "import random\n",
        "import datetime"
      ],
      "metadata": {
        "id": "ZCvfYzj_c5rs"
      },
      "execution_count": 2,
      "outputs": []
    },
    {
      "cell_type": "code",
      "source": [
        "def pickNumbers(totalNumbersToPick):\n",
        "  numbers = set()\n",
        "  while len(numbers) < totalNumbersToPick:\n",
        "    nextBall = random.randint(1,70)\n",
        "    numbers.add(nextBall)\n",
        "  megaBall = random.randint(1,25)\n",
        "  #numbers.add(megaBall)\n",
        "  return megaBall, numbers"
      ],
      "metadata": {
        "id": "rBQ0u61gfDfM"
      },
      "execution_count": 3,
      "outputs": []
    },
    {
      "cell_type": "code",
      "source": [
        "\n",
        "if __name__ == \"__main__\":\n",
        "\n",
        "  startTime = datetime.datetime.now()\n",
        "  # For testing, use a much smaller number than the real-world value, which is 5 plus the mega ball\n",
        "  totalNumbersInOnePlay = 5\n",
        "  amountSpent = 0\n",
        "  costPerTicket = 3   # $2 plus $1 for megaball\n",
        "  playCounter = 0\n",
        "  megaBall, winningNumbers = pickNumbers(totalNumbersInOnePlay)\n",
        "\n",
        "  winningNumbers = sorted(winningNumbers)\n",
        "  print(\"Winning numbers are\", winningNumbers, \"Mega Ball = \" , megaBall)\n",
        "  while True:\n",
        "    myMegaBall, myNumbers = pickNumbers(totalNumbersInOnePlay)\n",
        "    playCounter += 1\n",
        "    amountSpent += costPerTicket\n",
        "    if winningNumbers == sorted(myNumbers) and megaBall == myMegaBall:\n",
        "      print(\"************************** WINNER *****************************\")\n",
        "      print(\"We played\", '{:,}'.format(playCounter), \"times and we spent $\", '{:,}'.format(amountSpent))\n",
        "      print(\"The winning numbers were\", winningNumbers, \" and the megaball was\", myMegaBall)\n",
        "      break\n",
        "    else:\n",
        "      if playCounter % 10_000_000 == 0:\n",
        "        print(\"So far, we have played\", '{:,}'.format(playCounter) , \"times and spent $\", '{:,}'.format(amountSpent))\n",
        "        print(\"Started at\", str(startTime))\n",
        "        endTime = datetime.datetime.now()\n",
        "        print(\"Completed at \", str(endTime))\n",
        "  "
      ],
      "metadata": {
        "colab": {
          "base_uri": "https://localhost:8080/"
        },
        "id": "jEQ0VOKnfAuE",
        "outputId": "a6e8e3f8-7d9f-4db5-8d39-374477722e76"
      },
      "execution_count": 4,
      "outputs": [
        {
          "output_type": "stream",
          "name": "stdout",
          "text": [
            "Winning numbers are [5, 46, 59, 60, 61] Mega Ball =  16\n",
            "So far, we have played 10,000,000 times and spent $ 30,000,000\n",
            "So far, we have played 20,000,000 times and spent $ 60,000,000\n",
            "So far, we have played 30,000,000 times and spent $ 90,000,000\n",
            "So far, we have played 40,000,000 times and spent $ 120,000,000\n",
            "So far, we have played 50,000,000 times and spent $ 150,000,000\n",
            "So far, we have played 60,000,000 times and spent $ 180,000,000\n",
            "So far, we have played 70,000,000 times and spent $ 210,000,000\n",
            "So far, we have played 80,000,000 times and spent $ 240,000,000\n",
            "So far, we have played 90,000,000 times and spent $ 270,000,000\n",
            "So far, we have played 100,000,000 times and spent $ 300,000,000\n",
            "So far, we have played 110,000,000 times and spent $ 330,000,000\n",
            "So far, we have played 120,000,000 times and spent $ 360,000,000\n",
            "************************** WINNER *****************************\n",
            "We played 128,082,279 times and we spent $ 384,246,837\n",
            "The winning numbers were [5, 46, 59, 60, 61]  and the megaball was 16\n"
          ]
        }
      ]
    }
  ]
}